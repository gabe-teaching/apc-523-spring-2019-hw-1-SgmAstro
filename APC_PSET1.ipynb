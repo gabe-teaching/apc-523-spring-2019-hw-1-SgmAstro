{
 "cells": [
  {
   "cell_type": "code",
   "execution_count": 107,
   "metadata": {},
   "outputs": [
    {
     "data": {
      "text/plain": [
       "'\\nAPC 523 - PSet 1\\nSam Moore\\nCollaboration: None\\n'"
      ]
     },
     "execution_count": 107,
     "metadata": {},
     "output_type": "execute_result"
    }
   ],
   "source": [
    "'''\n",
    "APC 523 - PSet 1\n",
    "Sam Moore\n",
    "Collaboration: None\n",
    "'''"
   ]
  },
  {
   "cell_type": "code",
   "execution_count": 108,
   "metadata": {},
   "outputs": [],
   "source": [
    "import math\n",
    "from math import log10, floor\n",
    "import numpy as np\n",
    "import matplotlib.pyplot as plt\n",
    "from scipy.integrate import quad\n",
    "from scipy.optimize import newton\n",
    "import sympy"
   ]
  },
  {
   "cell_type": "code",
   "execution_count": 109,
   "metadata": {},
   "outputs": [],
   "source": [
    "'''\n",
    "round_sig(x, s):\n",
    "Returns a number to s significant figures\n",
    "Note that I assume that machine epsilon of my computer remains\n",
    "sufficiency low as ot not affect the calculations in the\n",
    "following problems (at 5 sf).\n",
    "\n",
    "An alternative method with less error (but rather ugly)\n",
    "could be as follows:\n",
    "\n",
    "def round_sig(x,s)\n",
    "    if (0.0 < x < 1.0):\n",
    "        round(x, s)\n",
    "    if (1.0 < x < 10.0):\n",
    "        round(x, s+1)\n",
    "    if (10.0 < x < 100.0):\n",
    "        round(x, s+2)\n",
    "        \n",
    "and so on, knowing that (by inspection) in the following problems,\n",
    "the number rounded is always < 1000.\n",
    "'''\n",
    "\n",
    "def round_sig(x, s):\n",
    "    if (x != 0):\n",
    "        return round(x, s - int(floor(log10(abs(x))))-1)\n",
    "    else:\n",
    "        return 0"
   ]
  },
  {
   "cell_type": "markdown",
   "metadata": {},
   "source": [
    "Question 1:\n",
    "\n",
    "See attached page."
   ]
  },
  {
   "cell_type": "code",
   "execution_count": 110,
   "metadata": {},
   "outputs": [
    {
     "name": "stdout",
     "output_type": "stream",
     "text": [
      "Series Terms:\n",
      "i = 0: 1.0\n",
      "i = 1: 5.5\n",
      "i = 2: 15.125\n",
      "i = 3: 27.73\n",
      "i = 4: 38.12875\n",
      "i = 5: 41.94167\n",
      "i = 6: 38.44722\n",
      "i = 7: 30.20833\n",
      "i = 8: 20.76835\n",
      "i = 9: 12.6918\n",
      "i = 10: 6.98054\n",
      "i = 11: 3.49033\n",
      "i = 12: 1.59971\n",
      "i = 13: 0.67682\n",
      "i = 14: 0.26586\n",
      "i = 15: 0.09749\n",
      "i = 16: 0.03351\n",
      "i = 17: 0.01084\n",
      "i = 18: 0.00331\n",
      "i = 19: 0.00096\n",
      "i = 20: 0.00026\n",
      "i = 21: 7e-05\n",
      "i = 22: 2e-05\n",
      "i = 23: 0.0\n",
      "i = 24: 0.0\n",
      "i = 25: 0.0\n",
      "i = 26: 0.0\n",
      "i = 27: 0.0\n",
      "i = 28: 0.0\n",
      "i = 29: 0.0\n",
      "i = 30: 0.0\n"
     ]
    }
   ],
   "source": [
    "'''\n",
    "Question 2a, b, c:\n",
    "'''\n",
    "\n",
    "def e_series_term(x, n):\n",
    "    numerator = 1\n",
    "    denominator = 1\n",
    "    for i in range(n):\n",
    "        numerator *= x\n",
    "        denominator *= n-i\n",
    "        numerator = round_sig(numerator, 5)\n",
    "        denominator = round_sig(denominator, 5)\n",
    "    series_term = round(numerator/denominator,5)\n",
    "    return series_term\n",
    "\n",
    "def e_series_sum_LtR(x,n):\n",
    "    summation = 0\n",
    "    for i in range(n):\n",
    "        summation += e_series_term(x,i)\n",
    "        summation = round_sig(summation, 5)\n",
    "        actual = math.exp(x)\n",
    "        rel_error = (abs((actual-summation) / actual))*100\n",
    "        print('i= '+str(i)+', sum = '+str(summation)+', rel_err = '+str(rel_error)+'%')\n",
    "    return summation, rel_error\n",
    "\n",
    "def e_series_sum_RtL(x,n):\n",
    "    summation = 0\n",
    "    for i in reversed(range(n)):\n",
    "        summation += e_series_term(x,i)\n",
    "        summation = round_sig(summation, 5)\n",
    "        actual = math.exp(x)\n",
    "        rel_error = (abs((actual-summation) / actual))*100\n",
    "        print('i= '+str(i)+' sum = ' + str(summation)+', rel_err = '+str(rel_error)+'%')\n",
    "    return summation, rel_error\n",
    "\n",
    "print('Series Terms:')\n",
    "for i in range(31):\n",
    "    print('i = '+str(i)+': '+str(e_series_term(5.5, i)))\n",
    "#e_series_sum(5.5, 31)"
   ]
  },
  {
   "cell_type": "code",
   "execution_count": 111,
   "metadata": {},
   "outputs": [
    {
     "name": "stdout",
     "output_type": "stream",
     "text": [
      "i= 0, sum = 1.0, rel_err = 99.5913228561536%\n",
      "i= 1, sum = 6.5, rel_err = 97.34359856499836%\n",
      "i= 2, sum = 21.625, rel_err = 91.16235676432144%\n",
      "i= 3, sum = 49.355, rel_err = 79.8297395654606%\n",
      "i= 4, sum = 87.484, rel_err = 64.24728874774097%\n",
      "i= 5, sum = 129.43, rel_err = 47.10491727195958%\n",
      "i= 6, sum = 167.88, rel_err = 31.391281091065242%\n",
      "i= 7, sum = 198.09, rel_err = 19.045144575465294%\n",
      "i= 8, sum = 218.86, rel_err = 10.556920297775422%\n",
      "i= 9, sum = 231.55, rel_err = 5.370807342364523%\n",
      "i= 10, sum = 238.53, rel_err = 2.518240878316608%\n",
      "i= 11, sum = 242.02, rel_err = 1.0919576462926448%\n",
      "i= 12, sum = 243.62, rel_err = 0.43807421613839637%\n",
      "i= 13, sum = 244.3, rel_err = 0.160173758322837%\n",
      "i= 14, sum = 244.57, rel_err = 0.04983092948431464%\n",
      "i= 15, sum = 244.67, rel_err = 0.008963215099676295%\n",
      "i= 16, sum = 244.7, rel_err = 0.0032970992157163714%\n",
      "i= 17, sum = 244.71, rel_err = 0.007383870654188337%\n",
      "i= 18, sum = 244.71, rel_err = 0.007383870654188337%\n",
      "i= 19, sum = 244.71, rel_err = 0.007383870654188337%\n",
      "i= 20, sum = 244.71, rel_err = 0.007383870654188337%\n",
      "i= 21, sum = 244.71, rel_err = 0.007383870654188337%\n",
      "i= 22, sum = 244.71, rel_err = 0.007383870654188337%\n",
      "i= 23, sum = 244.71, rel_err = 0.007383870654188337%\n",
      "i= 24, sum = 244.71, rel_err = 0.007383870654188337%\n",
      "i= 25, sum = 244.71, rel_err = 0.007383870654188337%\n",
      "i= 26, sum = 244.71, rel_err = 0.007383870654188337%\n",
      "i= 27, sum = 244.71, rel_err = 0.007383870654188337%\n",
      "i= 28, sum = 244.71, rel_err = 0.007383870654188337%\n",
      "i= 29, sum = 244.71, rel_err = 0.007383870654188337%\n",
      "i= 30, sum = 244.71, rel_err = 0.007383870654188337%\n"
     ]
    },
    {
     "data": {
      "text/plain": [
       "(244.71, 0.007383870654188337)"
      ]
     },
     "execution_count": 111,
     "metadata": {},
     "output_type": "execute_result"
    }
   ],
   "source": [
    "e_series_sum_LtR(5.5, 31)"
   ]
  },
  {
   "cell_type": "code",
   "execution_count": 112,
   "metadata": {},
   "outputs": [
    {
     "name": "stdout",
     "output_type": "stream",
     "text": [
      "i= 30 sum = 0, rel_err = 100.0%\n",
      "i= 29 sum = 0, rel_err = 100.0%\n",
      "i= 28 sum = 0, rel_err = 100.0%\n",
      "i= 27 sum = 0, rel_err = 100.0%\n",
      "i= 26 sum = 0, rel_err = 100.0%\n",
      "i= 25 sum = 0, rel_err = 100.0%\n",
      "i= 24 sum = 0, rel_err = 100.0%\n",
      "i= 23 sum = 0, rel_err = 100.0%\n",
      "i= 22 sum = 2e-05, rel_err = 99.99999182645712%\n",
      "i= 21 sum = 9e-05, rel_err = 99.99996321905705%\n",
      "i= 20 sum = 0.00035, rel_err = 99.99985696299966%\n",
      "i= 19 sum = 0.00131, rel_err = 99.99946463294157%\n",
      "i= 18 sum = 0.00462, rel_err = 99.99811191159543%\n",
      "i= 17 sum = 0.01546, rel_err = 99.99368185135614%\n",
      "i= 16 sum = 0.04897, rel_err = 99.97998708026584%\n",
      "i= 15 sum = 0.14646, rel_err = 99.94014514551226%\n",
      "i= 14 sum = 0.41232, rel_err = 99.83149424004925%\n",
      "i= 13 sum = 1.0891, rel_err = 99.55490972263688%\n",
      "i= 12 sum = 2.6888, rel_err = 98.9011488956258%\n",
      "i= 11 sum = 6.1791, rel_err = 97.47474306045866%\n",
      "i= 10 sum = 13.16, rel_err = 94.62180878698129%\n",
      "i= 9 sum = 25.852, rel_err = 89.4348784772827%\n",
      "i= 8 sum = 46.62, rel_err = 80.94747155388052%\n",
      "i= 7 sum = 76.828, rel_err = 68.60215239256826%\n",
      "i= 6 sum = 115.28, rel_err = 52.88769885738623%\n",
      "i= 5 sum = 157.22, rel_err = 35.74777944446794%\n",
      "i= 4 sum = 195.35, rel_err = 20.16491994960445%\n",
      "i= 3 sum = 223.08, rel_err = 8.832302750743587%\n",
      "i= 2 sum = 238.21, rel_err = 2.649017564347455%\n",
      "i= 1 sum = 243.71, rel_err = 0.40129327319221836%\n",
      "i= 0 sum = 244.71, rel_err = 0.007383870654188337%\n"
     ]
    },
    {
     "data": {
      "text/plain": [
       "(244.71, 0.007383870654188337)"
      ]
     },
     "execution_count": 112,
     "metadata": {},
     "output_type": "execute_result"
    }
   ],
   "source": [
    "e_series_sum_RtL(5.5, 31)"
   ]
  },
  {
   "cell_type": "code",
   "execution_count": 113,
   "metadata": {},
   "outputs": [
    {
     "name": "stdout",
     "output_type": "stream",
     "text": [
      "i= 0, sum = 1.0, rel_err = 24369.19322642204%\n",
      "i= 1, sum = -4.5, rel_err = 110211.36951889918%\n",
      "i= 2, sum = 10.625, rel_err = 259885.17803073418%\n",
      "i= 3, sum = -17.105, rel_err = 418645.550137949%\n",
      "i= 4, sum = 21.024, rel_err = 514340.318392297%\n",
      "i= 5, sum = -20.918, rel_err = 511946.58391029615%\n",
      "i= 6, sum = 17.529, rel_err = 428820.488065952%\n",
      "i= 7, sum = -12.679, rel_err = 310344.9009178051%\n",
      "i= 8, sum = 8.0894, rel_err = 197841.09168581845%\n",
      "i= 9, sum = -4.6024, rel_err = 112717.0149052848%\n",
      "i= 10, sum = 2.3781, rel_err = 58090.18841175425%\n",
      "i= 11, sum = -1.1122, rel_err = 27314.636706426598%\n",
      "i= 12, sum = 0.48751, rel_err = 11828.97638981301%\n",
      "i= 13, sum = -0.18931, rel_err = 4732.262969693957%\n",
      "i= 14, sum = 0.07655, rel_err = 1773.1167414826075%\n",
      "i= 15, sum = -0.02094, rel_err = 612.3849061612775%\n",
      "i= 16, sum = 0.01257, rel_err = 207.57775885612503%\n",
      "i= 17, sum = 0.00173, rel_err = 57.668295718289876%\n",
      "i= 18, sum = 0.00504, rel_err = 23.324733861167093%\n",
      "i= 19, sum = 0.00408, rel_err = 0.16569163619806487%\n",
      "i= 20, sum = 0.00434, rel_err = 6.1962986026716615%\n",
      "i= 21, sum = 0.00427, rel_err = 4.483455076822125%\n",
      "i= 22, sum = 0.00429, rel_err = 4.972838941350567%\n",
      "i= 23, sum = 0.00429, rel_err = 4.972838941350567%\n",
      "i= 24, sum = 0.00429, rel_err = 4.972838941350567%\n",
      "i= 25, sum = 0.00429, rel_err = 4.972838941350567%\n",
      "i= 26, sum = 0.00429, rel_err = 4.972838941350567%\n",
      "i= 27, sum = 0.00429, rel_err = 4.972838941350567%\n",
      "i= 28, sum = 0.00429, rel_err = 4.972838941350567%\n",
      "i= 29, sum = 0.00429, rel_err = 4.972838941350567%\n",
      "i= 30, sum = 0.00429, rel_err = 4.972838941350567%\n"
     ]
    },
    {
     "data": {
      "text/plain": [
       "(0.00429, 4.972838941350567)"
      ]
     },
     "execution_count": 113,
     "metadata": {},
     "output_type": "execute_result"
    }
   ],
   "source": [
    "'''\n",
    "Question 2d, i\n",
    "'''\n",
    "\n",
    "e_series_sum_LtR(-5.5, 31)"
   ]
  },
  {
   "cell_type": "code",
   "execution_count": 114,
   "metadata": {},
   "outputs": [
    {
     "name": "stdout",
     "output_type": "stream",
     "text": [
      "i= 30 sum = 0, rel_err = 100.0%\n",
      "i= 29 sum = 0, rel_err = 100.0%\n",
      "i= 28 sum = 0, rel_err = 100.0%\n",
      "i= 27 sum = 0, rel_err = 100.0%\n",
      "i= 26 sum = 0, rel_err = 100.0%\n",
      "i= 25 sum = 0, rel_err = 100.0%\n",
      "i= 24 sum = 0, rel_err = 100.0%\n",
      "i= 23 sum = 0, rel_err = 100.0%\n",
      "i= 22 sum = 2e-05, rel_err = 99.51061613547155%\n",
      "i= 21 sum = -5e-05, rel_err = 101.22345966132109%\n",
      "i= 20 sum = 0.00021, rel_err = 94.86146942245138%\n",
      "i= 19 sum = -0.00075, rel_err = 118.35189491981653%\n",
      "i= 18 sum = 0.00256, rel_err = 37.35886534035957%\n",
      "i= 17 sum = -0.00828, rel_err = 302.6049199147745%\n",
      "i= 16 sum = 0.02523, rel_err = 517.3577451026281%\n",
      "i= 15 sum = -0.07226, rel_err = 1868.143902541257%\n",
      "i= 14 sum = 0.1936, rel_err = 4637.235808635307%\n",
      "i= 13 sum = -0.48322, rel_err = 11924.00355087166%\n",
      "i= 12 sum = 1.1165, rel_err = 27219.854237300213%\n",
      "i= 11 sum = -2.3738, rel_err = 58184.970880880646%\n",
      "i= 10 sum = 4.6067, rel_err = 112622.23243615842%\n",
      "i= 9 sum = -8.0851, rel_err = 197935.87415494488%\n",
      "i= 8 sum = 12.683, rel_err = 310242.77769071073%\n",
      "i= 7 sum = -17.525, rel_err = 428922.61129304615%\n",
      "i= 6 sum = 20.922, rel_err = 511844.460683202%\n",
      "i= 5 sum = -21.02, rel_err = 514442.4416193912%\n",
      "i= 4 sum = 17.109, rel_err = 418543.42691085476%\n",
      "i= 3 sum = -10.621, rel_err = 259987.30125782848%\n",
      "i= 2 sum = 4.504, rel_err = 110109.24629180485%\n",
      "i= 1 sum = -0.996, rel_err = 24471.316453516352%\n",
      "i= 0 sum = 0.004, rel_err = 2.1232270943118334%\n"
     ]
    },
    {
     "data": {
      "text/plain": [
       "(0.004, 2.1232270943118334)"
      ]
     },
     "execution_count": 114,
     "metadata": {},
     "output_type": "execute_result"
    }
   ],
   "source": [
    "'''\n",
    "Question 2d, ii\n",
    "'''\n",
    "\n",
    "e_series_sum_RtL(-5.5, 31)"
   ]
  },
  {
   "cell_type": "code",
   "execution_count": 115,
   "metadata": {},
   "outputs": [
    {
     "name": "stdout",
     "output_type": "stream",
     "text": [
      "(0, 100.0)\n",
      "(0.01, 144.6919322642204)\n"
     ]
    }
   ],
   "source": [
    "'''\n",
    "Question 2d iii, iv\n",
    "'''\n",
    "\n",
    "# Left to Right\n",
    "def func_2d3(x, n):\n",
    "    positives = 0\n",
    "    negatives = 0\n",
    "    for i in range(n):\n",
    "        if (i % 2 == 0):\n",
    "            positives += e_series_term(x,i)\n",
    "            positives = round_sig(positives, 5)\n",
    "    for i in range(n):\n",
    "        if (i % 2 == 1):\n",
    "            negatives += e_series_term(x,i)\n",
    "            negatives = round_sig(negatives, 5)\n",
    "\n",
    "    e_value = positives + negatives\n",
    "    e_value = round_sig(e_value, 5)\n",
    "    actual = np.exp(x)\n",
    "    rel_error = (abs((actual-e_value) / actual))*100\n",
    "    return e_value, rel_error\n",
    "    \n",
    "# Right to Left\n",
    "def func_2d4(x, n):\n",
    "    positives = 0\n",
    "    negatives = 0\n",
    "    for i in reversed(range(n)):\n",
    "        if (i % 2 == 0):\n",
    "            positives += e_series_term(x,i)\n",
    "            positives = round_sig(positives, 5)\n",
    "    for i in reversed(range(n)):\n",
    "        if (i % 2 == 1):\n",
    "            negatives += e_series_term(x,i)\n",
    "            negatives = round_sig(negatives, 5)\n",
    "\n",
    "    e_value = positives + negatives\n",
    "    e_value = round_sig(e_value, 5)\n",
    "    actual = np.exp(x)\n",
    "    rel_error = (abs((actual-e_value) / actual))*100\n",
    "    return e_value, rel_error\n",
    "\n",
    "x = -5.5\n",
    "n = 31\n",
    "e_value = func_2d3(x, n)\n",
    "print(e_value)\n",
    "e_value = func_2d4(x, n)\n",
    "print(e_value)"
   ]
  },
  {
   "cell_type": "markdown",
   "metadata": {},
   "source": [
    "By basic inspection:\n",
    "\n",
    "iii and iv converge more quickly than the other two methods, but they are also the most inaccurate. The method with the lowest error is ii. (This analysis of convergence was conducted by changing n. Usually I would graph this, but I don't have the time)."
   ]
  },
  {
   "cell_type": "markdown",
   "metadata": {},
   "source": [
    "Question 2e:\n",
    "\n",
    "It is possible (though I would need to think about this for longer), that one could\n",
    "feasibily split $e^{-5.5}$ into two factors e.g: $e^{-0.5}$ and $e^{11}$. From this:\n",
    "\n",
    "$e^{-5.5} = e^{-0.5} * e^{11}$, where $e^{11}$ may be calculated by mulitplying by e\n",
    "11 times. Then $e^{-0.5}$ may be evaluated using a Taylor series. Because the exponent\n",
    "is smaller in magnitude in this case (-0.5 compared to -5.5), the Taylor series approximation will be more accurate. I would wager that there are cases in which this gain in accuracy is larger than any losses acquired due to the multiplication. Alternatively, a better method could be to calculate $1/e^{5.5}$, as division introduces relatively little error here."
   ]
  },
  {
   "cell_type": "code",
   "execution_count": null,
   "metadata": {},
   "outputs": [],
   "source": []
  },
  {
   "cell_type": "code",
   "execution_count": null,
   "metadata": {},
   "outputs": [],
   "source": []
  },
  {
   "cell_type": "code",
   "execution_count": 116,
   "metadata": {},
   "outputs": [
    {
     "name": "stdout",
     "output_type": "stream",
     "text": [
      "1 2.0\n",
      "10 2.5937424601\n",
      "100 2.704813829422\n",
      "1000 2.716923932236\n",
      "10000 2.718145926825\n",
      "100000 2.718268237192\n",
      "1000000 2.718280469096\n",
      "10000000 2.718281694132\n",
      "100000000 2.718281798347\n",
      "1000000000 2.718282052012\n",
      "10000000000 2.718282053235\n",
      "100000000000 2.718282053357\n",
      "1000000000000 2.718523496037\n",
      "DONE\n"
     ]
    }
   ],
   "source": [
    "'''\n",
    "Question 5\n",
    "'''\n",
    "\n",
    "def limit(n):\n",
    "    return (1 + 1/n)**n\n",
    "\n",
    "def recurrence_func(n):\n",
    "    e_new = limit(n)\n",
    "    if (n == 1):\n",
    "        e_initial = 0\n",
    "    else:\n",
    "        e_initial = limit(n-1)\n",
    "         \n",
    "    if (round_sig(e_initial, 12) == round_sig(e_new, 12)):\n",
    "        print('DONE')\n",
    "    else:\n",
    "        print(str(n) + ' ' + str(round(e_new, 12)))\n",
    "        recurrence_func(n*10)\n",
    "    \n",
    "recurrence_func(1)\n"
   ]
  },
  {
   "cell_type": "markdown",
   "metadata": {},
   "source": [
    "Note that if you keep going, the limit eventually converges to 1. \n",
    "Noting that the size of the relative error grows as a function of n, as n gets to a certain size ($\\approx 10^{16}$), then $1/n < \\epsilon$, and thus on a machine $1/n = 0$.\n"
   ]
  },
  {
   "cell_type": "code",
   "execution_count": 123,
   "metadata": {},
   "outputs": [
    {
     "data": {
      "image/png": "[encoded data removed]",
      "text/plain": [
       "<Figure size 432x288 with 1 Axes>"
      ]
     },
     "metadata": {},
     "output_type": "display_data"
    },
    {
     "name": "stdout",
     "output_type": "stream",
     "text": [
      "x = 1.0\n",
      "x = 1.009\n",
      "x = 1.018\n",
      "x = 1.027\n",
      "x = 1.036\n",
      "x = 1.045\n",
      "x = 2.719\n",
      "x = 2.7279999999999998\n",
      "x = 2.737\n",
      "x = 2.7459999999999996\n",
      "x = 7.39\n",
      "x = 7.398999999999999\n",
      "x = 7.4079999999999995\n",
      "x = 7.417\n",
      "x = 7.425999999999999\n",
      "x = 7.435\n",
      "x = 7.444\n"
     ]
    },
    {
     "data": {
      "image/png": "[encoded data removed]",
      "text/plain": [
       "<Figure size 432x288 with 1 Axes>"
      ]
     },
     "metadata": {},
     "output_type": "display_data"
    },
    {
     "name": "stdout",
     "output_type": "stream",
     "text": [
      "x = 1.0\n",
      "x = 1.009\n",
      "x = 1.018\n",
      "x = 1.027\n",
      "x = 1.036\n",
      "x = 1.045\n",
      "x = 1.135\n",
      "x = 1.144\n",
      "x = 1.288\n",
      "x = 1.297\n",
      "x = 1.306\n",
      "x = 1.315\n",
      "x = 1.3239999999999998\n",
      "x = 1.333\n",
      "x = 1.342\n",
      "x = 1.459\n",
      "x = 1.468\n",
      "x = 1.4769999999999999\n",
      "x = 1.486\n",
      "x = 1.4949999999999999\n",
      "x = 1.504\n",
      "x = 1.513\n",
      "x = 1.5219999999999998\n",
      "x = 1.531\n",
      "x = 1.54\n",
      "x = 1.549\n",
      "x = 1.8729999999999998\n",
      "x = 1.882\n",
      "x = 1.891\n",
      "x = 1.9\n",
      "x = 1.9089999999999998\n",
      "x = 1.918\n",
      "x = 1.927\n",
      "x = 1.936\n",
      "x = 1.9449999999999998\n",
      "x = 2.125\n",
      "x = 2.134\n",
      "x = 2.143\n",
      "x = 2.404\n",
      "x = 2.413\n",
      "x = 2.4219999999999997\n",
      "x = 2.431\n",
      "x = 2.44\n",
      "x = 2.449\n",
      "x = 2.719\n",
      "x = 2.7279999999999998\n",
      "x = 2.737\n",
      "x = 2.7459999999999996\n",
      "x = 3.0879999999999996\n",
      "x = 3.097\n",
      "x = 3.106\n",
      "x = 3.1149999999999998\n",
      "x = 3.1239999999999997\n",
      "x = 3.133\n",
      "x = 3.142\n",
      "x = 3.493\n",
      "x = 3.502\n",
      "x = 3.5109999999999997\n",
      "x = 3.52\n",
      "x = 3.529\n",
      "x = 3.538\n",
      "x = 3.5469999999999997\n",
      "x = 3.961\n",
      "x = 3.9699999999999998\n",
      "x = 3.9789999999999996\n",
      "x = 3.988\n",
      "x = 3.997\n",
      "x = 4.006\n",
      "x = 4.015\n",
      "x = 4.023999999999999\n",
      "x = 4.0329999999999995\n",
      "x = 4.042\n",
      "x = 4.483\n",
      "x = 4.491999999999999\n",
      "x = 4.5009999999999994\n",
      "x = 4.51\n",
      "x = 4.519\n",
      "x = 4.528\n",
      "x = 4.537\n",
      "x = 4.545999999999999\n",
      "x = 5.085999999999999\n",
      "x = 5.095\n",
      "x = 5.104\n",
      "x = 5.1129999999999995\n",
      "x = 5.122\n",
      "x = 5.130999999999999\n",
      "x = 5.14\n",
      "x = 5.149\n",
      "x = 5.760999999999999\n",
      "x = 5.77\n",
      "x = 5.779\n",
      "x = 5.787999999999999\n",
      "x = 5.797\n",
      "x = 5.806\n",
      "x = 5.8149999999999995\n",
      "x = 5.824\n",
      "x = 5.832999999999999\n",
      "x = 5.842\n",
      "x = 6.526\n",
      "x = 6.534999999999999\n",
      "x = 6.544\n",
      "x = 7.39\n",
      "x = 7.398999999999999\n",
      "x = 7.4079999999999995\n",
      "x = 7.417\n",
      "x = 7.425999999999999\n",
      "x = 7.435\n",
      "x = 7.444\n",
      "x = 8.379999999999999\n",
      "x = 8.389\n",
      "x = 8.398\n",
      "x = 8.407\n",
      "x = 8.416\n",
      "x = 8.425\n",
      "x = 8.434\n",
      "x = 8.443\n",
      "x = 9.495999999999999\n",
      "x = 9.504999999999999\n",
      "x = 9.514\n",
      "x = 9.523\n",
      "x = 9.532\n",
      "x = 9.540999999999999\n",
      "x = 9.549999999999999\n"
     ]
    },
    {
     "data": {
      "image/png": "[encoded data removed]",
      "text/plain": [
       "<Figure size 432x288 with 1 Axes>"
      ]
     },
     "metadata": {},
     "output_type": "display_data"
    },
    {
     "name": "stdout",
     "output_type": "stream",
     "text": [
      "x = 1.0\n",
      "x = 1.009\n",
      "x = 1.018\n",
      "x = 1.027\n",
      "x = 1.036\n",
      "x = 1.045\n",
      "x = 1.288\n",
      "x = 1.297\n",
      "x = 1.306\n",
      "x = 1.315\n",
      "x = 1.3239999999999998\n",
      "x = 1.333\n",
      "x = 1.342\n",
      "x = 2.125\n",
      "x = 2.134\n",
      "x = 2.143\n",
      "x = 2.719\n",
      "x = 2.7279999999999998\n",
      "x = 2.737\n",
      "x = 2.7459999999999996\n",
      "x = 3.493\n",
      "x = 3.502\n",
      "x = 3.5109999999999997\n",
      "x = 3.52\n",
      "x = 3.529\n",
      "x = 3.538\n",
      "x = 3.5469999999999997\n",
      "x = 4.483\n",
      "x = 4.491999999999999\n",
      "x = 4.5009999999999994\n",
      "x = 4.51\n",
      "x = 4.519\n",
      "x = 4.528\n",
      "x = 4.537\n",
      "x = 4.545999999999999\n",
      "x = 5.760999999999999\n",
      "x = 5.77\n",
      "x = 5.779\n",
      "x = 5.787999999999999\n",
      "x = 5.797\n",
      "x = 5.806\n",
      "x = 5.8149999999999995\n",
      "x = 5.824\n",
      "x = 5.832999999999999\n",
      "x = 5.842\n",
      "x = 7.39\n",
      "x = 7.398999999999999\n",
      "x = 7.4079999999999995\n",
      "x = 7.417\n",
      "x = 7.425999999999999\n",
      "x = 7.435\n",
      "x = 7.444\n",
      "x = 9.495999999999999\n",
      "x = 9.504999999999999\n",
      "x = 9.514\n",
      "x = 9.523\n",
      "x = 9.532\n",
      "x = 9.540999999999999\n",
      "x = 9.549999999999999\n"
     ]
    },
    {
     "data": {
      "image/png": "[encoded data removed]",
      "text/plain": [
       "<Figure size 432x288 with 1 Axes>"
      ]
     },
     "metadata": {},
     "output_type": "display_data"
    },
    {
     "name": "stdout",
     "output_type": "stream",
     "text": [
      "x = 1.0\n",
      "x = 1.009\n",
      "x = 1.018\n",
      "x = 1.027\n",
      "x = 1.036\n",
      "x = 1.045\n",
      "x = 2.719\n",
      "x = 2.7279999999999998\n",
      "x = 2.737\n",
      "x = 2.7459999999999996\n",
      "x = 4.483\n",
      "x = 4.491999999999999\n",
      "x = 4.5009999999999994\n",
      "x = 4.51\n",
      "x = 4.519\n",
      "x = 4.528\n",
      "x = 4.537\n",
      "x = 4.545999999999999\n",
      "x = 7.39\n",
      "x = 7.398999999999999\n",
      "x = 7.4079999999999995\n",
      "x = 7.417\n",
      "x = 7.425999999999999\n",
      "x = 7.435\n",
      "x = 7.444\n"
     ]
    },
    {
     "data": {
      "image/png": "[encoded data removed]",
      "text/plain": [
       "<Figure size 432x288 with 1 Axes>"
      ]
     },
     "metadata": {},
     "output_type": "display_data"
    },
    {
     "name": "stdout",
     "output_type": "stream",
     "text": [
      "x = 1.0\n",
      "x = 1.009\n",
      "x = 1.018\n",
      "x = 1.027\n",
      "x = 1.036\n",
      "x = 1.045\n",
      "x = 2.719\n",
      "x = 2.7279999999999998\n",
      "x = 2.737\n",
      "x = 2.7459999999999996\n",
      "x = 7.39\n",
      "x = 7.398999999999999\n",
      "x = 7.4079999999999995\n",
      "x = 7.417\n",
      "x = 7.425999999999999\n",
      "x = 7.435\n",
      "x = 7.444\n"
     ]
    },
    {
     "data": {
      "image/png": "[encoded data removed]",
      "text/plain": [
       "<Figure size 432x288 with 1 Axes>"
      ]
     },
     "metadata": {},
     "output_type": "display_data"
    },
    {
     "name": "stdout",
     "output_type": "stream",
     "text": [
      "x = 1.0\n",
      "x = 1.009\n",
      "x = 1.018\n",
      "x = 1.027\n",
      "x = 1.036\n",
      "x = 1.045\n",
      "x = 7.39\n",
      "x = 7.398999999999999\n",
      "x = 7.4079999999999995\n",
      "x = 7.417\n",
      "x = 7.425999999999999\n",
      "x = 7.435\n",
      "x = 7.444\n"
     ]
    },
    {
     "data": {
      "image/png": "[encoded data removed]",
      "text/plain": [
       "<Figure size 432x288 with 1 Axes>"
      ]
     },
     "metadata": {},
     "output_type": "display_data"
    },
    {
     "name": "stdout",
     "output_type": "stream",
     "text": [
      "x = 1.0\n",
      "x = 1.009\n",
      "x = 1.018\n",
      "x = 1.027\n",
      "x = 1.036\n",
      "x = 1.045\n"
     ]
    }
   ],
   "source": [
    "'''\n",
    "Question 6\n",
    "'''\n",
    "\n",
    "def sqrt_root_prob(n):\n",
    "    x = np.linspace(1.0, 10.0, 1001)\n",
    "    y = x\n",
    "    for i in range(n):\n",
    "        y = np.sqrt(y)\n",
    "\n",
    "    for i in range(n):\n",
    "        y = np.square(y)\n",
    "\n",
    "    plt.plot(x, y, label='actual')\n",
    "    plt.plot(x, x, '--', label='expected')\n",
    "    plt.xlabel('x')\n",
    "    plt.ylabel('y')\n",
    "    plt.title('n = %1.1i' % n)\n",
    "    plt.legend()\n",
    "    plt.show()\n",
    "    \n",
    "    # find values at which the two results are very close\n",
    "    for i in range(len(x)):\n",
    "        if (round_sig(x[i], 2) == round_sig(y[i], 2)):\n",
    "            print('x = ' + str(x[i]))\n",
    "\n",
    "sqrt_root_prob(52)\n",
    "            \n",
    "n = [49, 50, 51, 52, 53, 54]\n",
    "for i in range(len(n)):\n",
    "    sqrt_root_prob(n[i])"
   ]
  },
  {
   "cell_type": "markdown",
   "metadata": {},
   "source": [
    "Looking at the graphs created above from $n = 49$ to $n = 54$, one can see that varying powers of $e$ are left invariant. \n",
    "\n",
    "For $n=50$, $x = e^0, e^{0.25}, e^{0.5}, e^{0.75}, e^1, e^{1.25}, e^{1.5}, e^{1.75}, e^2$\n",
    "\n",
    "For $n=51$, $x = e^0, e^{0.5}, e^1, e^{1.5}, e^2$\n",
    "\n",
    "For $n=52$, $x = e^0, e^1, e^2$\n",
    "\n",
    "For $n=53$, $x = e^0, e^2$\n",
    "\n",
    "For $n=54$, $x = e^0$\n",
    "\n",
    "(and the trend continues for decreasing n)\n",
    "\n",
    "Consider the case of square-rooting n times, and then squaring $n$ times for $1+d$. The expression is:\n",
    "\n",
    "$(1+d)^{1/2n}$ upon the square-rooting, and if d is small, then expanding up to first order: $(1+\\frac{d}{2n})$. Now squaring n times yields the following:\n",
    "\n",
    "$(1+\\frac{d}{2n})^{2n}$, where one notes that this is equivalent to the limit in question 5 (if re-defining $n = 2n$). Thus it becomes obvious as to why powers of $e$ remain invariant, while the power of $2n$ explains the pattern as n decreases."
   ]
  },
  {
   "cell_type": "code",
   "execution_count": 118,
   "metadata": {},
   "outputs": [
    {
     "name": "stdout",
     "output_type": "stream",
     "text": [
      "[1.0, -210.0, 20615.0, -1256850.0, 53327946.0, -1672280820.0, 40171771630.0, -756111184500.0, 11310276995381.0, -135585182899530.0, 1307535010540395.0, -1.014229986551145e+16, 6.30308120992949e+16, -3.113336431613906e+17, 1.2066478037803732e+18, -3.599979517947607e+18, 8.037811822645051e+18, -1.2870931245150988e+19, 1.3803759753640704e+19, -8.7529480367616e+18, 2.43290200817664e+18]\n",
      "19.999995299528948\n"
     ]
    }
   ],
   "source": [
    "'''\n",
    "Question 7\n",
    "'''\n",
    "x = symbols('x')\n",
    "w = poly(expand(x-1)*(x-2)*(x-3)*(x-4)*(x-5)*(x-6)*(x-7)*(x-8)*(x-9)*(x-10)\n",
    "             *(x-11)*(x-12)*(x-13)*(x-14)*(x-15)*(x-16)*(x-17)*(x-18)*(x-19)*(x-20))\n",
    "w_coeff = [float(i) for i in w.coeffs()]\n",
    "print(w_coeff)\n",
    "\n",
    "func = np.poly1d(w_coeff)\n",
    "root = newton(func, 21, maxiter=100000)\n",
    "print(root)"
   ]
  },
  {
   "cell_type": "code",
   "execution_count": 119,
   "metadata": {},
   "outputs": [
    {
     "name": "stdout",
     "output_type": "stream",
     "text": [
      "delta = 1e-08, Newton = 9.585096282380398 built-in method = (20.647582887998496+1.1869261883090942j)\n",
      "delta = 1e-06, Newton = 7.752680775461009 built-in method = (23.149016036506442+2.7409846339100326j)\n",
      "delta = 0.0001, Newton = 5.96933350652477 built-in method = (28.40021241591655+6.5104342165628175j)\n",
      "delta = 0.01, Newton = 5.469592499488973 built-in method = (38.478183617151515+20.83432358712749j)\n",
      "[20.84691022+0.j         19.50244237+1.94033198j 19.50244237-1.94033198j\n",
      " 16.73074489+2.8126249j  16.73074489-2.8126249j  13.99240671+2.51882444j\n",
      " 13.99240671-2.51882444j 11.79389066+1.6524772j  11.79389066-1.6524772j\n",
      " 10.09545572+0.64493332j 10.09545572-0.64493332j  8.91581574+0.j\n",
      "  8.00777232+0.j          6.99960199+0.j          6.00002049+0.j\n",
      "  4.99999857+0.j          4.00000009+0.j          3.        +0.j\n",
      "  2.        +0.j          1.        +0.j        ]\n"
     ]
    },
    {
     "data": {
      "text/plain": [
       "'\\nRoots 16 and 17 have become complex\\n'"
      ]
     },
     "execution_count": 119,
     "metadata": {},
     "output_type": "execute_result"
    }
   ],
   "source": [
    "delta = [10**-8, 10**-6, 10**-4, 10**-2]\n",
    "for i in range(len(delta)):\n",
    "    w_coeff[0] = 1 + delta[i]\n",
    "    func = np.poly1d(w_coeff)\n",
    "    root = newton(func, 21, maxiter=100000)\n",
    "    root2 = np.roots(w_coeff)[0]\n",
    "    print('delta = '+str(delta[i])+', Newton = '+str(root)+' built-in method = '+str(root2))\n",
    "    \n",
    "'''\n",
    "The largest root has become complex.\n",
    "\n",
    "Question 7d)\n",
    "'''\n",
    "\n",
    "w_coeff[0] = 1.0; w_coeff[1] =  -210.0 - 2**-23\n",
    "func = np.poly1d(w_coeff)\n",
    "root = np.roots(w_coeff)\n",
    "print(root)\n",
    "'''\n",
    "Roots 16 and 17 have become complex\n",
    "'''"
   ]
  },
  {
   "cell_type": "code",
   "execution_count": 120,
   "metadata": {},
   "outputs": [
    {
     "name": "stdout",
     "output_type": "stream",
     "text": [
      "14 condition number = -1332968434.15133\n",
      "16 condition number = -2597938041.76567\n",
      "17 condition number = 2553886655.70120\n",
      "20 condition number = -45735394.0657804\n"
     ]
    }
   ],
   "source": [
    "'''\n",
    "Question 7e\n",
    "'''\n",
    "summation = 0\n",
    "r = [14, 16, 17, 20]\n",
    "for i in range(len(r)):\n",
    "    p = (x-1)*(x-2)*(x-3)*(x-4)*(x-5)*(x-6)*(x-7)*(x-8)*(x-9)*(x-10)*(x-11)*(x-12)*(x-13)*(x-14)*(x-15)*(x-16)*(x-17)*(x-18)*(x-19)*(x-20)\n",
    "    p1 = p / (x-r[i])\n",
    "    for j in range(20):\n",
    "        summation += r[i]**(j-1)*w.coeffs()[20-j]\n",
    "        \n",
    "    cond_num = summation/ p1.subs(x,r[i])\n",
    "    print(str(r[i])+ ' condition number = '+str(cond_num))"
   ]
  },
  {
   "cell_type": "code",
   "execution_count": 121,
   "metadata": {},
   "outputs": [
    {
     "name": "stdout",
     "output_type": "stream",
     "text": [
      "0.12380383076256993\n",
      "quad function = 0.12380383076256998\n"
     ]
    }
   ],
   "source": [
    "'''\n",
    "Question 8d:\n",
    "'''\n",
    "\n",
    "n = 20\n",
    "y1 = 0\n",
    "for i in range(32, n, -1):\n",
    "    y1 = (math.e - y1) / i\n",
    "\n",
    "def integral(x):\n",
    "    return x**n * math.exp(x)\n",
    "\n",
    "print(y1)\n",
    "print('quad function = '+str(quad(integral, 0, 1)[0]))"
   ]
  }
 ],
 "metadata": {
  "kernelspec": {
   "display_name": "Python 3",
   "language": "python",
   "name": "python3"
  },
  "language_info": {
   "codemirror_mode": {
    "name": "ipython",
    "version": 3
   },
   "file_extension": ".py",
   "mimetype": "text/x-python",
   "name": "python",
   "nbconvert_exporter": "python",
   "pygments_lexer": "ipython3",
   "version": "3.6.5"
  }
 },
 "nbformat": 4,
 "nbformat_minor": 2
}
